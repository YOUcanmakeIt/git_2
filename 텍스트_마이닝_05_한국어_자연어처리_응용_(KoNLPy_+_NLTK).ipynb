{
  "nbformat": 4,
  "nbformat_minor": 0,
  "metadata": {
    "colab": {
      "name": "텍스트 마이닝 05 - 한국어 자연어처리 응용 (KoNLPy + NLTK)",
      "provenance": [],
      "collapsed_sections": [],
      "include_colab_link": true
    },
    "kernelspec": {
      "display_name": "Python 3",
      "language": "python",
      "name": "python3"
    }
  },
  "cells": [
    {
      "cell_type": "markdown",
      "metadata": {
        "id": "view-in-github",
        "colab_type": "text"
      },
      "source": [
        "<a href=\"https://colab.research.google.com/github/YOUcanmakeIt/git_2/blob/master/%ED%85%8D%EC%8A%A4%ED%8A%B8_%EB%A7%88%EC%9D%B4%EB%8B%9D_05_%ED%95%9C%EA%B5%AD%EC%96%B4_%EC%9E%90%EC%97%B0%EC%96%B4%EC%B2%98%EB%A6%AC_%EC%9D%91%EC%9A%A9_(KoNLPy_%2B_NLTK).ipynb\" target=\"_parent\"><img src=\"https://colab.research.google.com/assets/colab-badge.svg\" alt=\"Open In Colab\"/></a>"
      ]
    },
    {
      "cell_type": "markdown",
      "metadata": {
        "id": "zspUEGd5_egl"
      },
      "source": [
        "# 텍스트 마이닝 05 - 한국어 자연어처리 응용 (KoNLPy + NLTK)\n",
        "\n",
        "<img width=\"40%\" src=\"https://i.imgur.com/AydcsdT.png\">\n",
        "    \n",
        "***2017-2021 FinanceData.KR http://financedata.kr***"
      ]
    },
    {
      "cell_type": "code",
      "metadata": {
        "id": "j8DrlRsKcS-g"
      },
      "source": [
        "# 한글 폰트 설치와 폰트 캐시 재설정\n",
        "!apt-get install -y -qq fonts-nanum\n",
        "!rm -rf ~/.cache/matplotlib/*\n",
        "!fc-cache -fv\n",
        "\n",
        "# 이 셀을 실행하고, 런타임 재시작 (메뉴의 \"런타임 / 런타임 다시 시작...\") 후\n",
        "# 다시 한번 이 셀을 실행합니다."
      ],
      "execution_count": null,
      "outputs": []
    },
    {
      "cell_type": "code",
      "metadata": {
        "id": "Z6CAaHLbdK4y"
      },
      "source": [
        "import matplotlib.pyplot as plt\n",
        "\n",
        "plt.rcParams[\"axes.grid\"] = True\n",
        "plt.rcParams[\"figure.figsize\"] = (14,4)\n",
        "\n",
        "# matplotlib 한글 출력 확인용 테스트\n",
        "plt.rcParams[\"font.family\"] = 'NanumBarunGothic'\n",
        "plt.title('한글 테스트')"
      ],
      "execution_count": null,
      "outputs": []
    },
    {
      "cell_type": "markdown",
      "metadata": {
        "id": "kmt36Apb_ehK"
      },
      "source": [
        "# Read documents\n",
        "\n",
        "특정 분야 뉴스 텍스트 수집"
      ]
    },
    {
      "cell_type": "code",
      "metadata": {
        "id": "rGQ63_N1fBKh"
      },
      "source": [
        "!pip install feedparser\n",
        "!pip install newspaper3k"
      ],
      "execution_count": null,
      "outputs": []
    },
    {
      "cell_type": "code",
      "metadata": {
        "id": "87rAFjBf_ehM"
      },
      "source": [
        "import feedparser\n",
        "import newspaper\n",
        "\n",
        "# 경향신문 경제뉴스 RSS\n",
        "rss_link = 'https://www.khan.co.kr/rss/rssdata/economy_news.xml'\n",
        "\n",
        "feeds = feedparser.parse(rss_link)\n",
        "links = [entry['link'] for entry in feeds['entries']]\n",
        "\n",
        "news_text =''\n",
        "for link in links:\n",
        "    print(link)\n",
        "    article = newspaper.Article(link, language='ko')\n",
        "    article.download()\n",
        "    article.parse()\n",
        "    news_text += article.text"
      ],
      "execution_count": null,
      "outputs": []
    },
    {
      "cell_type": "code",
      "metadata": {
        "id": "weqRZd50_ehR",
        "colab": {
          "base_uri": "https://localhost:8080/",
          "height": 171
        },
        "outputId": "4c60b815-4b60-4665-8b7c-6886b5ced3e6"
      },
      "source": [
        "print(len(news_text))\n",
        "print('-' * 120)\n",
        "news_text[:1000]"
      ],
      "execution_count": null,
      "outputs": [
        {
          "output_type": "stream",
          "text": [
            "47153\n",
            "------------------------------------------------------------------------------------------------------------------------\n"
          ],
          "name": "stdout"
        },
        {
          "output_type": "execute_result",
          "data": {
            "application/vnd.google.colaboratory.intrinsic+json": {
              "type": "string"
            },
            "text/plain": [
              "'삼성전자가 패션 브랜드 톰브라운과 함께 만든 폴더블폰 한정판 응모에 9시간 만에 46만명이 몰린 것으로 나타났다.\\n\\n\\n\\n15일 삼성전자는 지난 12일 오전 9시부터 오후 6시까지 삼성닷컴 홈페이지에서 진행한 ‘갤럭시Z 폴드3·플립3 톰브라운 에디션’ 한정 판매 추첨에 총 46만명이 참여했다고 밝혔다.\\n\\n\\n\\n이번 톰브라운 에디션 한정판 응모자 수는 전작(갤럭시Z폴드2)에 비해 약 2배 많았다. 이번엔 폴드3과 플립3의 두 제품 응모를 동시에 진행한 영향도 컸다. 삼성전자는 “전작의 응모 시간이 33시간이었던 데 비하면 호응이 훨씬 컸던 셈”이라며 “최초 9시간 기준으로는 응모자 수가 약 3.5배”라고 밝혔다. 두 제품 중 플립3에 대한 응모가 조금 더 많았던 것으로 파악됐다.\\n\\n\\n\\n톰브라운 에디션에는 이번 폴더블폰과 함께 출시되는 갤럭시워치4, 갤럭시버즈2를 비롯해 무선충전기, 가죽 케이스, S펜(폴드3만 해당)이 포함됐다. 제품마다 톰브라운 특유의 시그니처 디자인이 적용됐다. 폴드3은 396만원, 플립3은 259만5000원이다. 업계 관계자는 “전작 폴더블폰의 톰브라운 에디션은 실구매가에서 50만~100만원의 프리미엄이 붙어 팔리기도 했다”며 “이번 제품 역시 세련된 디자인에 한정판이라는 희귀성을 가진 데다 프리미엄 차익을 보려는 수요가 몰리면서 호응이 컸던 것 같다”고 말했다.\\n\\n\\n\\n삼성전자는 지난 13일 톰브라운 에디션 당첨자에게 당첨 사실을 알렸고, 오는 27일부터 제품을 배송할 예정이다. 삼성전자는 이번에 톰브라운 에디션을 몇 대나 판매했는지는 공개하지 않았다.\\n\\n\\n\\n톰브라운 에디션이 아닌 일반 폴드3, 플립3의 사전판매는 17일부터 23일까지 진행된다.\\n\\n내달 10일부터 출발과 도착 공항이 다른 새로운 형태의 국제관광비행이 운행한다.\\n\\n\\n\\n15일 국토교통부에 따르면 다음달 10일 에어부산은 김해공항을 출발해 제주공항으로 향하는 국제관광비행 항공편을 띄울 예정이다. 이어 11일 김포~김해(에어부산), 17일 김포~제주(에어서울), 24일 김포~제주(아시'"
            ]
          },
          "metadata": {
            "tags": []
          },
          "execution_count": 5
        }
      ]
    },
    {
      "cell_type": "markdown",
      "metadata": {
        "id": "r-K6Me4l_ehT"
      },
      "source": [
        "## Tokenize"
      ]
    },
    {
      "cell_type": "code",
      "metadata": {
        "id": "ZnOvLGPyjSk9"
      },
      "source": [
        "!pip install konlpy"
      ],
      "execution_count": null,
      "outputs": []
    },
    {
      "cell_type": "code",
      "metadata": {
        "id": "HNBhaFNG_ehV"
      },
      "source": [
        "from konlpy.tag import Komoran\n",
        "\n",
        "engine = Komoran() \n",
        "news_tokens = engine.nouns(news_text)"
      ],
      "execution_count": null,
      "outputs": []
    },
    {
      "cell_type": "code",
      "metadata": {
        "id": "rsqxShSN_ehW",
        "colab": {
          "base_uri": "https://localhost:8080/"
        },
        "outputId": "0553f44f-c209-4f78-f4ee-833e7a3475dd"
      },
      "source": [
        "print(news_tokens[:100])"
      ],
      "execution_count": null,
      "outputs": [
        {
          "output_type": "stream",
          "text": [
            "['삼성전자', '패션', '브랜드', '톰', '브라운', '폴', '더블', '폰', '한정판', '응모', '시간', '만', '명', '것', '일', '삼성전자', '일', '오전', '시', '오후', '시', '삼성', '닷', '컴', '홈페이지', '진행', '갤럭시', '폴', '드', '플립', '톰', '브라운', '에디션', '한정', '판매', '추첨', '명', '참여', '이번', '톰', '브라운', '에디션', '한정판', '응모자', '수', '전작', '갤럭시', '폴', '드', '배', '이번', '폴', '드', '플립', '제품', '응모', '동시', '진행', '영향', '삼성전자', '전', '작의', '응모', '시간', '시간', '데', '호응', '셈', '최초', '시간', '기준', '응모자', '수', '배', '제품', '중', '플립', '응모', '것', '파악', '톰', '브라운', '에디션', '이번', '폴', '더블', '폰', '출시', '갤럭시', '워치', '갤럭시', '버즈', '무선', '충전기', '가죽', '케이스', '펜', '폴', '드', '해당']\n"
          ],
          "name": "stdout"
        }
      ]
    },
    {
      "cell_type": "markdown",
      "metadata": {
        "id": "pg2D_-Wbjy-E"
      },
      "source": [
        "## 불용어(Stop words) 제거"
      ]
    },
    {
      "cell_type": "code",
      "metadata": {
        "colab": {
          "base_uri": "https://localhost:8080/"
        },
        "id": "4Q0x_ctTkaqN",
        "outputId": "a064568f-5afa-4823-c56d-6499aae785a0"
      },
      "source": [
        "import requests\n",
        "\n",
        "r = requests.get('https://bit.ly/3CTV3QT')\n",
        "stop_words = r.text.split()\n",
        "len(stop_words)"
      ],
      "execution_count": null,
      "outputs": [
        {
          "output_type": "execute_result",
          "data": {
            "text/plain": [
              "789"
            ]
          },
          "metadata": {
            "tags": []
          },
          "execution_count": 9
        }
      ]
    },
    {
      "cell_type": "code",
      "metadata": {
        "colab": {
          "base_uri": "https://localhost:8080/"
        },
        "id": "0SJh_hiRkamm",
        "outputId": "c5990d49-6957-48dc-a2b6-8e692eb18789"
      },
      "source": [
        "stop_words[:10]"
      ],
      "execution_count": null,
      "outputs": [
        {
          "output_type": "execute_result",
          "data": {
            "text/plain": [
              "['아', '휴', '아이구', '아이쿠', '아이고', '어', '나', '우리', '저희', '따라']"
            ]
          },
          "metadata": {
            "tags": []
          },
          "execution_count": 10
        }
      ]
    },
    {
      "cell_type": "code",
      "metadata": {
        "colab": {
          "base_uri": "https://localhost:8080/"
        },
        "id": "JVHi2lA-k1Xu",
        "outputId": "3a3b5439-fb40-4eea-ea10-d4f0003a16b6"
      },
      "source": [
        "print('불용어 처리전 단어수:', len(news_tokens))\n",
        "\n",
        "result = []\n",
        "for w in news_tokens:\n",
        "    if w not in stop_words:\n",
        "        result.append(w)\n",
        "\n",
        "print('불용어 처리후 단어수:', len(result))"
      ],
      "execution_count": null,
      "outputs": [
        {
          "output_type": "stream",
          "text": [
            "불용어 처리전 단어수: 9226\n",
            "불용어 처리후 단어수: 8423\n"
          ],
          "name": "stdout"
        }
      ]
    },
    {
      "cell_type": "code",
      "metadata": {
        "id": "2tqVVH_nk1O7"
      },
      "source": [
        "# 2글자 이상 단어만 (선택적)\n",
        "news_tokens = [w for w in result if len(w) > 1]"
      ],
      "execution_count": null,
      "outputs": []
    },
    {
      "cell_type": "code",
      "metadata": {
        "colab": {
          "base_uri": "https://localhost:8080/"
        },
        "id": "r2ZmfInRrEX7",
        "outputId": "95d61513-27cb-4dc8-a94c-fb4f7bc8b5c6"
      },
      "source": [
        "# 가장 많이 등장하는 명사 TOP 20\n",
        "from collections import Counter\n",
        "\n",
        "count = Counter(news_tokens)\n",
        "count.most_common(20)"
      ],
      "execution_count": null,
      "outputs": [
        {
          "output_type": "execute_result",
          "data": {
            "text/plain": [
              "[('주택', 47),\n",
              " ('만원', 46),\n",
              " ('사업', 46),\n",
              " ('업체', 45),\n",
              " ('수수료', 43),\n",
              " ('중개', 42),\n",
              " ('숙련', 41),\n",
              " ('포인트', 39),\n",
              " ('플러스', 38),\n",
              " ('경우', 37),\n",
              " ('코로나', 36),\n",
              " ('감소', 36),\n",
              " ('판매', 35),\n",
              " ('기준', 35),\n",
              " ('19', 34),\n",
              " ('소비자', 32),\n",
              " ('지난해', 31),\n",
              " ('서비스', 31),\n",
              " ('친환경', 31),\n",
              " ('일자리', 31)]"
            ]
          },
          "metadata": {
            "tags": []
          },
          "execution_count": 13
        }
      ]
    },
    {
      "cell_type": "markdown",
      "metadata": {
        "id": "70a5ZBNL_eha"
      },
      "source": [
        "## nltk.Text() 분석\n",
        "\n",
        "참고 http://www.nltk.org/api/nltk.html#nltk.text.Text"
      ]
    },
    {
      "cell_type": "code",
      "metadata": {
        "id": "ZYj7BQ0w_ehd"
      },
      "source": [
        "import nltk\n",
        "news = nltk.Text(news_tokens)"
      ],
      "execution_count": null,
      "outputs": []
    },
    {
      "cell_type": "code",
      "metadata": {
        "id": "hoFvN56y_ehh",
        "colab": {
          "base_uri": "https://localhost:8080/"
        },
        "outputId": "124f965e-38b7-4a23-bbce-c87c113e67e9"
      },
      "source": [
        "print(len(news.tokens)) # 토큰 개수\n",
        "print(len(set(news.tokens))) # 고유한 토큰 개수"
      ],
      "execution_count": null,
      "outputs": [
        {
          "output_type": "stream",
          "text": [
            "7385\n",
            "1847\n"
          ],
          "name": "stdout"
        }
      ]
    },
    {
      "cell_type": "markdown",
      "metadata": {
        "id": "df7_BLMZ_ehk"
      },
      "source": [
        "## 빈도 분포 FreqDist"
      ]
    },
    {
      "cell_type": "code",
      "metadata": {
        "id": "1B_IEUWy_ehl",
        "colab": {
          "base_uri": "https://localhost:8080/"
        },
        "outputId": "49bc27c4-dc99-491b-ee4b-1ea1e7b7a4d3"
      },
      "source": [
        "freq_dist = news.vocab() # FreqDist (빈도 분포)\n",
        "print(len(freq_dist))"
      ],
      "execution_count": null,
      "outputs": [
        {
          "output_type": "stream",
          "text": [
            "1847\n"
          ],
          "name": "stdout"
        }
      ]
    },
    {
      "cell_type": "code",
      "metadata": {
        "id": "wxSPGBO3_ehn",
        "colab": {
          "base_uri": "https://localhost:8080/"
        },
        "outputId": "4a2bf065-5416-4840-ef52-ca22acc70dc0"
      },
      "source": [
        "print(freq_dist.most_common(50)) # 가장 많이 등장하는 50개"
      ],
      "execution_count": null,
      "outputs": [
        {
          "output_type": "stream",
          "text": [
            "[('주택', 47), ('만원', 46), ('사업', 46), ('업체', 45), ('수수료', 43), ('중개', 42), ('숙련', 41), ('포인트', 39), ('플러스', 38), ('경우', 37), ('코로나', 36), ('감소', 36), ('판매', 35), ('기준', 35), ('19', 34), ('소비자', 32), ('지난해', 31), ('서비스', 31), ('친환경', 31), ('일자리', 31), ('임금', 31), ('적용', 29), ('요율', 29), ('사용', 29), ('자영업자', 28), ('진행', 26), ('갤럭시', 25), ('최대', 25), ('지급', 25), ('정부', 24), ('상품', 24), ('펀드', 24), ('자금', 24), ('미국', 23), ('비행', 22), ('수준', 22), ('취업자', 22), ('금융', 22), ('구간', 22), ('김치', 22), ('관광', 21), ('할인', 21), ('배터리', 21), ('제품', 20), ('가격', 20), ('개월', 20), ('투자', 20), ('중개업', 20), ('삼성전자', 19), ('이후', 19)]\n"
          ],
          "name": "stdout"
        }
      ]
    },
    {
      "cell_type": "code",
      "metadata": {
        "id": "dTxAVNUI_ehq",
        "colab": {
          "base_uri": "https://localhost:8080/",
          "height": 305
        },
        "outputId": "42430845-e854-4b1b-835b-bb9dbf934916"
      },
      "source": [
        "news.plot(50)"
      ],
      "execution_count": null,
      "outputs": [
        {
          "output_type": "display_data",
          "data": {
            "image/png": "[encoded data removed]",
            "text/plain": [
              "<Figure size 1008x288 with 1 Axes>"
            ]
          },
          "metadata": {
            "tags": [],
            "needs_background": "light"
          }
        }
      ]
    },
    {
      "cell_type": "markdown",
      "metadata": {
        "id": "6mmWBlOi_ehu"
      },
      "source": [
        "## count"
      ]
    },
    {
      "cell_type": "code",
      "metadata": {
        "id": "qPhuoTB__ehv",
        "colab": {
          "base_uri": "https://localhost:8080/"
        },
        "outputId": "917d3356-af3b-4384-8c36-af56bdddb05b"
      },
      "source": [
        "news.count('가격')"
      ],
      "execution_count": null,
      "outputs": [
        {
          "output_type": "execute_result",
          "data": {
            "text/plain": [
              "20"
            ]
          },
          "metadata": {
            "tags": []
          },
          "execution_count": 19
        }
      ]
    },
    {
      "cell_type": "markdown",
      "metadata": {
        "id": "SjLN_zs9_ehz"
      },
      "source": [
        "## Dispersion plot\n",
        "단어가 등장하는 위치를 Word Offset에 따라 배치하여 시각화"
      ]
    },
    {
      "cell_type": "code",
      "metadata": {
        "id": "w6AZBpq1_eh0",
        "colab": {
          "base_uri": "https://localhost:8080/",
          "height": 294
        },
        "outputId": "86d2eb88-f891-462a-90e7-f1d9b349edd3"
      },
      "source": [
        "news.dispersion_plot(['삼성전자', '하이닉스', '현대중공업', '아시아나항공', '현대중공업'])"
      ],
      "execution_count": null,
      "outputs": [
        {
          "output_type": "display_data",
          "data": {
            "image/png": "[encoded data removed]",
            "text/plain": [
              "<Figure size 1008x288 with 1 Axes>"
            ]
          },
          "metadata": {
            "tags": [],
            "needs_background": "light"
          }
        }
      ]
    },
    {
      "cell_type": "markdown",
      "metadata": {
        "id": "8GP-1zf-_eh4"
      },
      "source": [
        "# Concordance\n",
        "\n",
        "Concordance (색인): 단어가 쓰인 문맥을 모두 찾아준다"
      ]
    },
    {
      "cell_type": "code",
      "metadata": {
        "id": "tLC0A_tl_eh5",
        "colab": {
          "base_uri": "https://localhost:8080/"
        },
        "outputId": "4a5a4506-abf4-4b4c-81c3-9526f0b6a1d6"
      },
      "source": [
        "news.concordance('하이닉스', lines=10)"
      ],
      "execution_count": null,
      "outputs": [
        {
          "output_type": "stream",
          "text": [
            "No matches\n"
          ],
          "name": "stdout"
        }
      ]
    },
    {
      "cell_type": "markdown",
      "metadata": {
        "id": "8KSMMBbx_eh-"
      },
      "source": [
        "# Similar word\n",
        "\n",
        "주어진 단어와 비슷한 환경(same context)에서 쓰인(≠비슷한 뜻) 단어들"
      ]
    },
    {
      "cell_type": "code",
      "metadata": {
        "id": "Xg9pZ2-b_eiF",
        "colab": {
          "base_uri": "https://localhost:8080/"
        },
        "outputId": "3063c0a9-e197-480f-d1a1-e7cd0ffa3f11"
      },
      "source": [
        "news.similar('갤럭시')"
      ],
      "execution_count": null,
      "outputs": [
        {
          "output_type": "stream",
          "text": [
            "삼성전자 플립 노트\n"
          ],
          "name": "stdout"
        }
      ]
    },
    {
      "cell_type": "code",
      "metadata": {
        "id": "3VCo2OnY_eiL",
        "colab": {
          "base_uri": "https://localhost:8080/"
        },
        "outputId": "acfc7d66-240c-4053-e2ad-237189622766"
      },
      "source": [
        "news.similar('친환경')"
      ],
      "execution_count": null,
      "outputs": [
        {
          "output_type": "stream",
          "text": [
            "진출 완전\n"
          ],
          "name": "stdout"
        }
      ]
    },
    {
      "cell_type": "code",
      "metadata": {
        "colab": {
          "base_uri": "https://localhost:8080/"
        },
        "id": "6Ogm6VkMni-y",
        "outputId": "18f85cee-b176-4415-b309-673aca36408c"
      },
      "source": [
        "news.similar('일자리')"
      ],
      "execution_count": null,
      "outputs": [
        {
          "output_type": "stream",
          "text": [
            "지난해 직종\n"
          ],
          "name": "stdout"
        }
      ]
    },
    {
      "cell_type": "markdown",
      "metadata": {
        "id": "FeoJ4h_D_eiQ"
      },
      "source": [
        "# common_contexts\n",
        "\n",
        "for two words used in similar contexts"
      ]
    },
    {
      "cell_type": "code",
      "metadata": {
        "id": "4hNMWZSq_eiQ",
        "colab": {
          "base_uri": "https://localhost:8080/"
        },
        "outputId": "b3d90fdd-0557-4b6a-cf5b-1326aa22bf48"
      },
      "source": [
        "news.common_contexts(['단어A', '단어B'])"
      ],
      "execution_count": null,
      "outputs": [
        {
          "output_type": "stream",
          "text": [
            "('The following word(s) were not found:', '단어a 단어b')\n"
          ],
          "name": "stdout"
        }
      ]
    },
    {
      "cell_type": "markdown",
      "metadata": {
        "id": "OuwANh4M_eiU"
      },
      "source": [
        "# Collocations\n",
        "연어(連語, collocation): 함께 위치하는 단어들 (co + location), 어휘의 조합 또는 짝을 이루는 단어"
      ]
    },
    {
      "cell_type": "code",
      "metadata": {
        "colab": {
          "base_uri": "https://localhost:8080/"
        },
        "id": "GvndwILmoMx2",
        "outputId": "8a82fba2-3dad-4a5b-d12f-cfa9a8688865"
      },
      "source": [
        "nltk.download('stopwords')"
      ],
      "execution_count": null,
      "outputs": [
        {
          "output_type": "stream",
          "text": [
            "[nltk_data] Downloading package stopwords to /root/nltk_data...\n",
            "[nltk_data]   Package stopwords is already up-to-date!\n"
          ],
          "name": "stdout"
        },
        {
          "output_type": "execute_result",
          "data": {
            "text/plain": [
              "True"
            ]
          },
          "metadata": {
            "tags": []
          },
          "execution_count": 26
        }
      ]
    },
    {
      "cell_type": "code",
      "metadata": {
        "id": "dkEHa2WY_eiX",
        "colab": {
          "base_uri": "https://localhost:8080/"
        },
        "outputId": "63829b22-f0b5-476b-d886-b263cade3fe2"
      },
      "source": [
        "news.collocations()"
      ],
      "execution_count": null,
      "outputs": [
        {
          "output_type": "stream",
          "text": [
            "고용원 자영업자; 에너지 솔루션; 브라운 에디션; 플러그인 하이브리드; 가맹점 금융사; 자동차 전문지; 지난해 12월; 스포츠\n",
            "유틸리티; 중개업 소비자; 국토부 토론회; 김종진 한국노동사회연구소; 사업체 노동력; 이산화탄소 배출량; 판매자 청와대;\n",
            "갤럭시 시리즈; 근로자 월평균; 주유소 인프라; 통계청 마이크로; 세그먼트 판매량; 신용카드 하반기\n"
          ],
          "name": "stdout"
        }
      ]
    },
    {
      "cell_type": "markdown",
      "metadata": {
        "id": "c2U0mYzO_eia"
      },
      "source": [
        "# PoS Tagging \n"
      ]
    },
    {
      "cell_type": "code",
      "metadata": {
        "id": "kSZ99Dah_eic",
        "colab": {
          "base_uri": "https://localhost:8080/"
        },
        "outputId": "a8edc023-f45e-4b61-843f-34f1eaeabd26"
      },
      "source": [
        "from konlpy.tag import Kkma\n",
        "\n",
        "engine = Kkma() \n",
        "news_tags = engine.pos(news_text)\n",
        "print(news_tags[:100])"
      ],
      "execution_count": null,
      "outputs": [
        {
          "output_type": "stream",
          "text": [
            "[('삼성전자', 'NNG'), ('가', 'JKS'), ('패션', 'NNG'), ('브랜드', 'NNG'), ('톰', 'UN'), ('브라운', 'NNG'), ('과', 'JKM'), ('함께', 'MAG'), ('만들', 'VV'), ('ㄴ', 'ETD'), ('폴', 'NNG'), ('더블', 'NNG'), ('폰', 'NNG'), ('한정판', 'NNG'), ('응모', 'NNG'), ('에', 'JKM'), ('9', 'NR'), ('시간', 'NNM'), ('만', 'NNB'), ('에', 'JKM'), ('46', 'NR'), ('만', 'NR'), ('명', 'NNM'), ('이', 'JKS'), ('몰리', 'VV'), ('ㄴ', 'ETD'), ('것', 'NNB'), ('으로', 'JKM'), ('나타나', 'VV'), ('었', 'EPT'), ('다', 'EFN'), ('.', 'SF'), ('15', 'NR'), ('일', 'NNM'), ('삼성전자', 'NNG'), ('는', 'JX'), ('지나', 'VV'), ('ㄴ', 'ETD'), ('12', 'NR'), ('일', 'NNM'), ('오전', 'NNG'), ('9', 'NR'), ('시', 'NNM'), ('부터', 'JX'), ('오후', 'NNG'), ('6', 'NR'), ('시', 'NNM'), ('까지', 'JX'), ('삼성', 'NNG'), ('닷컴', 'NNG'), ('홈페이지', 'NNG'), ('에서', 'JKM'), ('진행', 'NNG'), ('하', 'XSV'), ('ㄴ', 'ETD'), ('‘', 'SS'), ('개', 'VV'), ('ㄹ', 'ETD'), ('럭', 'UN'), ('시', 'NNG'), ('Z', 'OL'), ('폴드', 'UN'), ('3', 'NR'), ('·', 'SP'), ('플', 'UN'), ('립', 'NNG'), ('3', 'NR'), ('톰', 'UN'), ('브라운', 'NNG'), ('에', 'JKM'), ('디', 'NNG'), ('션', 'UN'), ('’', 'SS'), ('한정', 'NNG'), ('판매', 'NNG'), ('추첨', 'NNG'), ('에', 'JKM'), ('총', 'NNG'), ('46', 'NR'), ('만', 'NR'), ('명', 'NNM'), ('이', 'JKS'), ('참여', 'NNG'), ('하', 'XSV'), ('었', 'EPT'), ('다고', 'EFN'), ('밝히', 'VV'), ('었', 'EPT'), ('다', 'EFN'), ('.', 'SF'), ('이번', 'NNG'), ('톰', 'UN'), ('브라운', 'NNG'), ('에', 'JKM'), ('디', 'NNG'), ('션', 'UN'), ('한정판', 'NNG'), ('응모자', 'NNG'), ('수', 'NNG'), ('는', 'JX')]\n"
          ],
          "name": "stdout"
        }
      ]
    },
    {
      "cell_type": "markdown",
      "metadata": {
        "id": "YI8vOTlP_eig"
      },
      "source": [
        "# Chunking"
      ]
    },
    {
      "cell_type": "code",
      "metadata": {
        "id": "lG822qnL_eij"
      },
      "source": [
        "from konlpy.tag import Kkma\n",
        "\n",
        "engine = Kkma() \n",
        "\n",
        "text = '지구는 정말 아름다운 별이다.'\n",
        "tags = engine.pos(text)\n",
        "\n",
        "parser = nltk.RegexpParser(\"NP: {<Adjective>*<Noun>*}\")\n",
        "tree = parser.parse(tags)\n",
        "tree\n",
        "\n",
        "# Colab에서는 출력되지 않습니다"
      ],
      "execution_count": null,
      "outputs": []
    },
    {
      "cell_type": "code",
      "metadata": {
        "id": "BFvyF0gJ_eiq",
        "colab": {
          "base_uri": "https://localhost:8080/"
        },
        "outputId": "6b46c839-fc18-4fcd-acb4-daa34694c9f1"
      },
      "source": [
        "tree.pprint()"
      ],
      "execution_count": null,
      "outputs": [
        {
          "output_type": "stream",
          "text": [
            "(S 지구/NNG 는/JX 정말/MAG 아름답/VA ㄴ/ETD 별/NNG 이/VCP 다/EFN ./SF)\n"
          ],
          "name": "stdout"
        }
      ]
    },
    {
      "cell_type": "markdown",
      "metadata": {
        "id": "ZgGN_XgS_ejC"
      },
      "source": [
        "## Summary\n",
        "* Tokenize - engine.morphs()\n",
        "* nltk.Text() \n",
        "* 빈도 분포, count, Dispersion plot\n",
        "* Concordance(색인)\n",
        "* Similar word (same context)\n",
        "* common_contexts\n",
        "* Collocations (연어)\n",
        "* PoS Tagging\n",
        "* Chunking\n",
        "* 명사 추출 engine.nouns()"
      ]
    },
    {
      "cell_type": "markdown",
      "metadata": {
        "id": "L0EPKCCh_ejD"
      },
      "source": [
        "***2017-2021 FinanceData.KR http://financedata.kr***"
      ]
    }
  ]
}